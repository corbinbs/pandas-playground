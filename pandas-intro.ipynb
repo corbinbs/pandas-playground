{
 "metadata": {
  "name": ""
 },
 "nbformat": 3,
 "nbformat_minor": 0,
 "worksheets": [
  {
   "cells": [
    {
     "cell_type": "code",
     "collapsed": false,
     "input": [
      "import pandas\n",
      "import numpy\n",
      "pandas.set_option('max_columns', 50)"
     ],
     "language": "python",
     "metadata": {},
     "outputs": [],
     "prompt_number": 1
    },
    {
     "cell_type": "code",
     "collapsed": false,
     "input": [
      "#\"A Series is a one-dimensional object similar to an array, list, or column in a table\"\n",
      "s = pandas.Series([187, 'Cowpens', 93.6, -100000000000, 'Tuesday, November 5th, 2013'])"
     ],
     "language": "python",
     "metadata": {},
     "outputs": [],
     "prompt_number": 2
    },
    {
     "cell_type": "code",
     "collapsed": false,
     "input": [
      "s"
     ],
     "language": "python",
     "metadata": {},
     "outputs": [
      {
       "metadata": {},
       "output_type": "pyout",
       "prompt_number": 3,
       "text": [
        "0                            187\n",
        "1                        Cowpens\n",
        "2                           93.6\n",
        "3                  -100000000000\n",
        "4    Tuesday, November 5th, 2013\n",
        "dtype: object"
       ]
      }
     ],
     "prompt_number": 3
    },
    {
     "cell_type": "code",
     "collapsed": false,
     "input": [
      "#with a customized index...\n",
      "s = pandas.Series([187, 'Cowpens', 93.6, -100000000000, 'Tuesday, November 5th, 2013'], index=['A', 'B', 'C', 'D', 'E'])"
     ],
     "language": "python",
     "metadata": {},
     "outputs": [],
     "prompt_number": 4
    },
    {
     "cell_type": "code",
     "collapsed": false,
     "input": [
      "s"
     ],
     "language": "python",
     "metadata": {},
     "outputs": [
      {
       "metadata": {},
       "output_type": "pyout",
       "prompt_number": 5,
       "text": [
        "A                            187\n",
        "B                        Cowpens\n",
        "C                           93.6\n",
        "D                  -100000000000\n",
        "E    Tuesday, November 5th, 2013\n",
        "dtype: object"
       ]
      }
     ],
     "prompt_number": 5
    },
    {
     "cell_type": "code",
     "collapsed": false,
     "input": [
      "#or created with a dictionary\n",
      "towns = pandas.Series({'Cowpens': 100, 'Clifton': 200, 'Pacolet': 300, 'Spartanburg': 400, 'Charleston': 500})"
     ],
     "language": "python",
     "metadata": {},
     "outputs": [],
     "prompt_number": 6
    },
    {
     "cell_type": "code",
     "collapsed": false,
     "input": [
      "towns"
     ],
     "language": "python",
     "metadata": {},
     "outputs": [
      {
       "metadata": {},
       "output_type": "pyout",
       "prompt_number": 7,
       "text": [
        "Charleston     500\n",
        "Clifton        200\n",
        "Cowpens        100\n",
        "Pacolet        300\n",
        "Spartanburg    400\n",
        "dtype: int64"
       ]
      }
     ],
     "prompt_number": 7
    },
    {
     "cell_type": "code",
     "collapsed": false,
     "input": [
      "towns['Cowpens']"
     ],
     "language": "python",
     "metadata": {},
     "outputs": [
      {
       "metadata": {},
       "output_type": "pyout",
       "prompt_number": 8,
       "text": [
        "100"
       ]
      }
     ],
     "prompt_number": 8
    },
    {
     "cell_type": "code",
     "collapsed": false,
     "input": [
      "towns[['Cowpens', 'Pacolet']]"
     ],
     "language": "python",
     "metadata": {},
     "outputs": [
      {
       "metadata": {},
       "output_type": "pyout",
       "prompt_number": 9,
       "text": [
        "Cowpens    100\n",
        "Pacolet    300\n",
        "dtype: int64"
       ]
      }
     ],
     "prompt_number": 9
    },
    {
     "cell_type": "code",
     "collapsed": false,
     "input": [
      "towns <= 200"
     ],
     "language": "python",
     "metadata": {},
     "outputs": [
      {
       "metadata": {},
       "output_type": "pyout",
       "prompt_number": 10,
       "text": [
        "Charleston     False\n",
        "Clifton         True\n",
        "Cowpens         True\n",
        "Pacolet        False\n",
        "Spartanburg    False\n",
        "dtype: bool"
       ]
      }
     ],
     "prompt_number": 10
    },
    {
     "cell_type": "code",
     "collapsed": false,
     "input": [
      "towns[towns <= 200]"
     ],
     "language": "python",
     "metadata": {},
     "outputs": [
      {
       "metadata": {},
       "output_type": "pyout",
       "prompt_number": 11,
       "text": [
        "Clifton    200\n",
        "Cowpens    100\n",
        "dtype: int64"
       ]
      }
     ],
     "prompt_number": 11
    },
    {
     "cell_type": "code",
     "collapsed": false,
     "input": [
      "towns['Clifton'] = 275"
     ],
     "language": "python",
     "metadata": {},
     "outputs": [],
     "prompt_number": 12
    },
    {
     "cell_type": "code",
     "collapsed": false,
     "input": [
      "'Clifton' in towns"
     ],
     "language": "python",
     "metadata": {},
     "outputs": [
      {
       "metadata": {},
       "output_type": "pyout",
       "prompt_number": 13,
       "text": [
        "True"
       ]
      }
     ],
     "prompt_number": 13
    },
    {
     "cell_type": "code",
     "collapsed": false,
     "input": [
      "towns / 5"
     ],
     "language": "python",
     "metadata": {},
     "outputs": [
      {
       "metadata": {},
       "output_type": "pyout",
       "prompt_number": 14,
       "text": [
        "Charleston     100\n",
        "Clifton         55\n",
        "Cowpens         20\n",
        "Pacolet         60\n",
        "Spartanburg     80\n",
        "dtype: int64"
       ]
      }
     ],
     "prompt_number": 14
    },
    {
     "cell_type": "code",
     "collapsed": false,
     "input": [
      "#\"A DataFrame is a data structure comprised of rows and columns (like a spreadsheet/database table)\n",
      "socon_data = {\n",
      "    'school': ['Wofford', 'Chattanooga', 'Samford', 'Furman', 'Citadel', 'App State', 'Georgia Southern', 'Western Carolina', 'Elon'],\n",
      "    'wins': [4, 5, 4, 3, 3, 2, 2, 1, 1],\n",
      "    'losses': [1, 1, 1, 2, 4, 4, 4, 4, 4]\n",
      "}\n",
      "socon_standings = pandas.DataFrame(socon_data, columns=['school', 'wins', 'losses'])"
     ],
     "language": "python",
     "metadata": {},
     "outputs": [],
     "prompt_number": 15
    },
    {
     "cell_type": "code",
     "collapsed": false,
     "input": [
      "socon_standings"
     ],
     "language": "python",
     "metadata": {},
     "outputs": [
      {
       "html": [
        "<div style=\"max-height:1000px;max-width:1500px;overflow:auto;\">\n",
        "<table border=\"1\" class=\"dataframe\">\n",
        "  <thead>\n",
        "    <tr style=\"text-align: right;\">\n",
        "      <th></th>\n",
        "      <th>school</th>\n",
        "      <th>wins</th>\n",
        "      <th>losses</th>\n",
        "    </tr>\n",
        "  </thead>\n",
        "  <tbody>\n",
        "    <tr>\n",
        "      <th>0</th>\n",
        "      <td>          Wofford</td>\n",
        "      <td> 4</td>\n",
        "      <td> 1</td>\n",
        "    </tr>\n",
        "    <tr>\n",
        "      <th>1</th>\n",
        "      <td>      Chattanooga</td>\n",
        "      <td> 5</td>\n",
        "      <td> 1</td>\n",
        "    </tr>\n",
        "    <tr>\n",
        "      <th>2</th>\n",
        "      <td>          Samford</td>\n",
        "      <td> 4</td>\n",
        "      <td> 1</td>\n",
        "    </tr>\n",
        "    <tr>\n",
        "      <th>3</th>\n",
        "      <td>           Furman</td>\n",
        "      <td> 3</td>\n",
        "      <td> 2</td>\n",
        "    </tr>\n",
        "    <tr>\n",
        "      <th>4</th>\n",
        "      <td>          Citadel</td>\n",
        "      <td> 3</td>\n",
        "      <td> 4</td>\n",
        "    </tr>\n",
        "    <tr>\n",
        "      <th>5</th>\n",
        "      <td>        App State</td>\n",
        "      <td> 2</td>\n",
        "      <td> 4</td>\n",
        "    </tr>\n",
        "    <tr>\n",
        "      <th>6</th>\n",
        "      <td> Georgia Southern</td>\n",
        "      <td> 2</td>\n",
        "      <td> 4</td>\n",
        "    </tr>\n",
        "    <tr>\n",
        "      <th>7</th>\n",
        "      <td> Western Carolina</td>\n",
        "      <td> 1</td>\n",
        "      <td> 4</td>\n",
        "    </tr>\n",
        "    <tr>\n",
        "      <th>8</th>\n",
        "      <td>             Elon</td>\n",
        "      <td> 1</td>\n",
        "      <td> 4</td>\n",
        "    </tr>\n",
        "  </tbody>\n",
        "</table>\n",
        "</div>"
       ],
       "metadata": {},
       "output_type": "pyout",
       "prompt_number": 16,
       "text": [
        "             school  wins  losses\n",
        "0           Wofford     4       1\n",
        "1       Chattanooga     5       1\n",
        "2           Samford     4       1\n",
        "3            Furman     3       2\n",
        "4           Citadel     3       4\n",
        "5         App State     2       4\n",
        "6  Georgia Southern     2       4\n",
        "7  Western Carolina     1       4\n",
        "8              Elon     1       4"
       ]
      }
     ],
     "prompt_number": 16
    },
    {
     "cell_type": "code",
     "collapsed": false,
     "input": [
      "socon_standings.wins > 3"
     ],
     "language": "python",
     "metadata": {},
     "outputs": [
      {
       "metadata": {},
       "output_type": "pyout",
       "prompt_number": 17,
       "text": [
        "0     True\n",
        "1     True\n",
        "2     True\n",
        "3    False\n",
        "4    False\n",
        "5    False\n",
        "6    False\n",
        "7    False\n",
        "8    False\n",
        "Name: wins, dtype: bool"
       ]
      }
     ],
     "prompt_number": 17
    },
    {
     "cell_type": "code",
     "collapsed": false,
     "input": [
      "socon_standings[socon_standings.wins > 3]"
     ],
     "language": "python",
     "metadata": {},
     "outputs": [
      {
       "html": [
        "<div style=\"max-height:1000px;max-width:1500px;overflow:auto;\">\n",
        "<table border=\"1\" class=\"dataframe\">\n",
        "  <thead>\n",
        "    <tr style=\"text-align: right;\">\n",
        "      <th></th>\n",
        "      <th>school</th>\n",
        "      <th>wins</th>\n",
        "      <th>losses</th>\n",
        "    </tr>\n",
        "  </thead>\n",
        "  <tbody>\n",
        "    <tr>\n",
        "      <th>0</th>\n",
        "      <td>     Wofford</td>\n",
        "      <td> 4</td>\n",
        "      <td> 1</td>\n",
        "    </tr>\n",
        "    <tr>\n",
        "      <th>1</th>\n",
        "      <td> Chattanooga</td>\n",
        "      <td> 5</td>\n",
        "      <td> 1</td>\n",
        "    </tr>\n",
        "    <tr>\n",
        "      <th>2</th>\n",
        "      <td>     Samford</td>\n",
        "      <td> 4</td>\n",
        "      <td> 1</td>\n",
        "    </tr>\n",
        "  </tbody>\n",
        "</table>\n",
        "</div>"
       ],
       "metadata": {},
       "output_type": "pyout",
       "prompt_number": 18,
       "text": [
        "        school  wins  losses\n",
        "0      Wofford     4       1\n",
        "1  Chattanooga     5       1\n",
        "2      Samford     4       1"
       ]
      }
     ],
     "prompt_number": 18
    },
    {
     "cell_type": "code",
     "collapsed": false,
     "input": [
      "#dump to Excel\n",
      "socon_standings.to_excel('socon_standings_2013.xlsx', index=False)"
     ],
     "language": "python",
     "metadata": {},
     "outputs": [],
     "prompt_number": 19
    },
    {
     "cell_type": "code",
     "collapsed": false,
     "input": [
      "!ls -alth *.xlsx"
     ],
     "language": "python",
     "metadata": {},
     "outputs": [
      {
       "output_type": "stream",
       "stream": "stdout",
       "text": [
        "-rw-r--r-- 1 vagrant vagrant 5.6K Nov  6 05:48 socon_standings_2013.xlsx\r\n"
       ]
      }
     ],
     "prompt_number": 20
    },
    {
     "cell_type": "code",
     "collapsed": false,
     "input": [
      "socon_reloaded = pandas.read_excel('socon_standings_2013.xlsx', 'sheet1')"
     ],
     "language": "python",
     "metadata": {},
     "outputs": [],
     "prompt_number": 22
    },
    {
     "cell_type": "code",
     "collapsed": false,
     "input": [
      "socon_reloaded"
     ],
     "language": "python",
     "metadata": {},
     "outputs": [
      {
       "html": [
        "<div style=\"max-height:1000px;max-width:1500px;overflow:auto;\">\n",
        "<table border=\"1\" class=\"dataframe\">\n",
        "  <thead>\n",
        "    <tr style=\"text-align: right;\">\n",
        "      <th></th>\n",
        "      <th>school</th>\n",
        "      <th>wins</th>\n",
        "      <th>losses</th>\n",
        "    </tr>\n",
        "  </thead>\n",
        "  <tbody>\n",
        "    <tr>\n",
        "      <th>0</th>\n",
        "      <td>          Wofford</td>\n",
        "      <td> 4</td>\n",
        "      <td> 1</td>\n",
        "    </tr>\n",
        "    <tr>\n",
        "      <th>1</th>\n",
        "      <td>      Chattanooga</td>\n",
        "      <td> 5</td>\n",
        "      <td> 1</td>\n",
        "    </tr>\n",
        "    <tr>\n",
        "      <th>2</th>\n",
        "      <td>          Samford</td>\n",
        "      <td> 4</td>\n",
        "      <td> 1</td>\n",
        "    </tr>\n",
        "    <tr>\n",
        "      <th>3</th>\n",
        "      <td>           Furman</td>\n",
        "      <td> 3</td>\n",
        "      <td> 2</td>\n",
        "    </tr>\n",
        "    <tr>\n",
        "      <th>4</th>\n",
        "      <td>          Citadel</td>\n",
        "      <td> 3</td>\n",
        "      <td> 4</td>\n",
        "    </tr>\n",
        "    <tr>\n",
        "      <th>5</th>\n",
        "      <td>        App State</td>\n",
        "      <td> 2</td>\n",
        "      <td> 4</td>\n",
        "    </tr>\n",
        "    <tr>\n",
        "      <th>6</th>\n",
        "      <td> Georgia Southern</td>\n",
        "      <td> 2</td>\n",
        "      <td> 4</td>\n",
        "    </tr>\n",
        "    <tr>\n",
        "      <th>7</th>\n",
        "      <td> Western Carolina</td>\n",
        "      <td> 1</td>\n",
        "      <td> 4</td>\n",
        "    </tr>\n",
        "    <tr>\n",
        "      <th>8</th>\n",
        "      <td>             Elon</td>\n",
        "      <td> 1</td>\n",
        "      <td> 4</td>\n",
        "    </tr>\n",
        "  </tbody>\n",
        "</table>\n",
        "</div>"
       ],
       "metadata": {},
       "output_type": "pyout",
       "prompt_number": 23,
       "text": [
        "             school  wins  losses\n",
        "0           Wofford     4       1\n",
        "1       Chattanooga     5       1\n",
        "2           Samford     4       1\n",
        "3            Furman     3       2\n",
        "4           Citadel     3       4\n",
        "5         App State     2       4\n",
        "6  Georgia Southern     2       4\n",
        "7  Western Carolina     1       4\n",
        "8              Elon     1       4"
       ]
      }
     ],
     "prompt_number": 23
    },
    {
     "cell_type": "code",
     "collapsed": false,
     "input": [
      "salaries = pandas.read_csv('state-of-sc-salary-list-11052013.csv')"
     ],
     "language": "python",
     "metadata": {},
     "outputs": [],
     "prompt_number": 24
    },
    {
     "cell_type": "code",
     "collapsed": false,
     "input": [
      "salaries"
     ],
     "language": "python",
     "metadata": {},
     "outputs": [
      {
       "html": [
        "<pre>\n",
        "&lt;class 'pandas.core.frame.DataFrame'&gt;\n",
        "Int64Index: 17352 entries, 0 to 17351\n",
        "Data columns (total 8 columns):\n",
        "Agency        17352  non-null values\n",
        "Lastname      17352  non-null values\n",
        "Firstname     17352  non-null values\n",
        "Middlename    0  non-null values\n",
        "JobTitle      17352  non-null values\n",
        "BasePay       17352  non-null values\n",
        "OtherComp     17352  non-null values\n",
        "TotalComp     17352  non-null values\n",
        "dtypes: float64(1), int64(3), object(4)\n",
        "</pre>"
       ],
       "metadata": {},
       "output_type": "pyout",
       "prompt_number": 77,
       "text": [
        "<class 'pandas.core.frame.DataFrame'>\n",
        "Int64Index: 17352 entries, 0 to 17351\n",
        "Data columns (total 8 columns):\n",
        "Agency        17352  non-null values\n",
        "Lastname      17352  non-null values\n",
        "Firstname     17352  non-null values\n",
        "Middlename    0  non-null values\n",
        "JobTitle      17352  non-null values\n",
        "BasePay       17352  non-null values\n",
        "OtherComp     17352  non-null values\n",
        "TotalComp     17352  non-null values\n",
        "dtypes: float64(1), int64(3), object(4)"
       ]
      }
     ],
     "prompt_number": 77
    },
    {
     "cell_type": "code",
     "collapsed": false,
     "input": [
      "salaries.dtypes"
     ],
     "language": "python",
     "metadata": {},
     "outputs": [
      {
       "metadata": {},
       "output_type": "pyout",
       "prompt_number": 79,
       "text": [
        "Agency         object\n",
        "Lastname       object\n",
        "Firstname      object\n",
        "Middlename    float64\n",
        "JobTitle       object\n",
        "BasePay         int64\n",
        "OtherComp       int64\n",
        "TotalComp       int64\n",
        "dtype: object"
       ]
      }
     ],
     "prompt_number": 79
    },
    {
     "cell_type": "code",
     "collapsed": false,
     "input": [
      "#basic stats for the numeric columns\n",
      "salaries.describe()"
     ],
     "language": "python",
     "metadata": {},
     "outputs": [
      {
       "html": [
        "<div style=\"max-height:1000px;max-width:1500px;overflow:auto;\">\n",
        "<table border=\"1\" class=\"dataframe\">\n",
        "  <thead>\n",
        "    <tr style=\"text-align: right;\">\n",
        "      <th></th>\n",
        "      <th>Middlename</th>\n",
        "      <th>BasePay</th>\n",
        "      <th>OtherComp</th>\n",
        "      <th>TotalComp</th>\n",
        "    </tr>\n",
        "  </thead>\n",
        "  <tbody>\n",
        "    <tr>\n",
        "      <th>count</th>\n",
        "      <td>  0</td>\n",
        "      <td>  17352.000000</td>\n",
        "      <td>  17352.000000</td>\n",
        "      <td>  17352.000000</td>\n",
        "    </tr>\n",
        "    <tr>\n",
        "      <th>mean</th>\n",
        "      <td>NaN</td>\n",
        "      <td>  77210.229311</td>\n",
        "      <td>     83.791206</td>\n",
        "      <td>  77294.020516</td>\n",
        "    </tr>\n",
        "    <tr>\n",
        "      <th>std</th>\n",
        "      <td>NaN</td>\n",
        "      <td>  33287.423616</td>\n",
        "      <td>   3496.333480</td>\n",
        "      <td>  33711.268543</td>\n",
        "    </tr>\n",
        "    <tr>\n",
        "      <th>min</th>\n",
        "      <td>NaN</td>\n",
        "      <td>  50000.000000</td>\n",
        "      <td>      0.000000</td>\n",
        "      <td>  50000.000000</td>\n",
        "    </tr>\n",
        "    <tr>\n",
        "      <th>25%</th>\n",
        "      <td>NaN</td>\n",
        "      <td>  56264.000000</td>\n",
        "      <td>      0.000000</td>\n",
        "      <td>  56265.500000</td>\n",
        "    </tr>\n",
        "    <tr>\n",
        "      <th>50%</th>\n",
        "      <td>NaN</td>\n",
        "      <td>  66142.500000</td>\n",
        "      <td>      0.000000</td>\n",
        "      <td>  66148.000000</td>\n",
        "    </tr>\n",
        "    <tr>\n",
        "      <th>75%</th>\n",
        "      <td>NaN</td>\n",
        "      <td>  85098.500000</td>\n",
        "      <td>      0.000000</td>\n",
        "      <td>  85116.250000</td>\n",
        "    </tr>\n",
        "    <tr>\n",
        "      <th>max</th>\n",
        "      <td>NaN</td>\n",
        "      <td> 525000.000000</td>\n",
        "      <td> 300000.000000</td>\n",
        "      <td> 600000.000000</td>\n",
        "    </tr>\n",
        "  </tbody>\n",
        "</table>\n",
        "</div>"
       ],
       "metadata": {},
       "output_type": "pyout",
       "prompt_number": 80,
       "text": [
        "       Middlename        BasePay      OtherComp      TotalComp\n",
        "count           0   17352.000000   17352.000000   17352.000000\n",
        "mean          NaN   77210.229311      83.791206   77294.020516\n",
        "std           NaN   33287.423616    3496.333480   33711.268543\n",
        "min           NaN   50000.000000       0.000000   50000.000000\n",
        "25%           NaN   56264.000000       0.000000   56265.500000\n",
        "50%           NaN   66142.500000       0.000000   66148.000000\n",
        "75%           NaN   85098.500000       0.000000   85116.250000\n",
        "max           NaN  525000.000000  300000.000000  600000.000000"
       ]
      }
     ],
     "prompt_number": 80
    },
    {
     "cell_type": "code",
     "collapsed": false,
     "input": [
      "salaries.head()"
     ],
     "language": "python",
     "metadata": {},
     "outputs": [
      {
       "html": [
        "<div style=\"max-height:1000px;max-width:1500px;overflow:auto;\">\n",
        "<table border=\"1\" class=\"dataframe\">\n",
        "  <thead>\n",
        "    <tr style=\"text-align: right;\">\n",
        "      <th></th>\n",
        "      <th>Agency</th>\n",
        "      <th>Lastname</th>\n",
        "      <th>Firstname</th>\n",
        "      <th>Middlename</th>\n",
        "      <th>JobTitle</th>\n",
        "      <th>BasePay</th>\n",
        "      <th>OtherComp</th>\n",
        "      <th>TotalComp</th>\n",
        "    </tr>\n",
        "  </thead>\n",
        "  <tbody>\n",
        "    <tr>\n",
        "      <th>0</th>\n",
        "      <td> UNIVERSITY OF SOUTH CAROLINA</td>\n",
        "      <td>     TANNER</td>\n",
        "      <td>        D.</td>\n",
        "      <td>NaN</td>\n",
        "      <td> ATHLETICS DIRECTOR</td>\n",
        "      <td> 525000</td>\n",
        "      <td> 0</td>\n",
        "      <td> 525000</td>\n",
        "    </tr>\n",
        "    <tr>\n",
        "      <th>1</th>\n",
        "      <td>     MEDICAL UNIVERSITY OF SC</td>\n",
        "      <td> MONTGOMERY</td>\n",
        "      <td>      LISA</td>\n",
        "      <td>NaN</td>\n",
        "      <td>     VICE PRESIDENT</td>\n",
        "      <td> 405313</td>\n",
        "      <td> 0</td>\n",
        "      <td> 405313</td>\n",
        "    </tr>\n",
        "    <tr>\n",
        "      <th>2</th>\n",
        "      <td> UNIVERSITY OF SOUTH CAROLINA</td>\n",
        "      <td>  MOSKOWITZ</td>\n",
        "      <td>       JAY</td>\n",
        "      <td>NaN</td>\n",
        "      <td>          PROFESSOR</td>\n",
        "      <td> 402999</td>\n",
        "      <td> 0</td>\n",
        "      <td> 402999</td>\n",
        "    </tr>\n",
        "    <tr>\n",
        "      <th>3</th>\n",
        "      <td>     UNIVERSITY OF CHARLESTON</td>\n",
        "      <td>     WOJCIK</td>\n",
        "      <td> FREDERICK</td>\n",
        "      <td>NaN</td>\n",
        "      <td>    ATHLETICS COACH</td>\n",
        "      <td> 400000</td>\n",
        "      <td> 0</td>\n",
        "      <td> 400000</td>\n",
        "    </tr>\n",
        "    <tr>\n",
        "      <th>4</th>\n",
        "      <td> UNIVERSITY OF SOUTH CAROLINA</td>\n",
        "      <td>      MORAD</td>\n",
        "      <td>    MARTIN</td>\n",
        "      <td>NaN</td>\n",
        "      <td>          PROFESSOR</td>\n",
        "      <td> 384911</td>\n",
        "      <td> 0</td>\n",
        "      <td> 384911</td>\n",
        "    </tr>\n",
        "  </tbody>\n",
        "</table>\n",
        "</div>"
       ],
       "metadata": {},
       "output_type": "pyout",
       "prompt_number": 81,
       "text": [
        "                         Agency    Lastname  Firstname  Middlename  \\\n",
        "0  UNIVERSITY OF SOUTH CAROLINA      TANNER         D.         NaN   \n",
        "1      MEDICAL UNIVERSITY OF SC  MONTGOMERY       LISA         NaN   \n",
        "2  UNIVERSITY OF SOUTH CAROLINA   MOSKOWITZ        JAY         NaN   \n",
        "3      UNIVERSITY OF CHARLESTON      WOJCIK  FREDERICK         NaN   \n",
        "4  UNIVERSITY OF SOUTH CAROLINA       MORAD     MARTIN         NaN   \n",
        "\n",
        "             JobTitle  BasePay  OtherComp  TotalComp  \n",
        "0  ATHLETICS DIRECTOR   525000          0     525000  \n",
        "1      VICE PRESIDENT   405313          0     405313  \n",
        "2           PROFESSOR   402999          0     402999  \n",
        "3     ATHLETICS COACH   400000          0     400000  \n",
        "4           PROFESSOR   384911          0     384911  "
       ]
      }
     ],
     "prompt_number": 81
    },
    {
     "cell_type": "code",
     "collapsed": false,
     "input": [
      "salaries.tail(5)"
     ],
     "language": "python",
     "metadata": {},
     "outputs": [
      {
       "html": [
        "<div style=\"max-height:1000px;max-width:1500px;overflow:auto;\">\n",
        "<table border=\"1\" class=\"dataframe\">\n",
        "  <thead>\n",
        "    <tr style=\"text-align: right;\">\n",
        "      <th></th>\n",
        "      <th>Agency</th>\n",
        "      <th>Lastname</th>\n",
        "      <th>Firstname</th>\n",
        "      <th>Middlename</th>\n",
        "      <th>JobTitle</th>\n",
        "      <th>BasePay</th>\n",
        "      <th>OtherComp</th>\n",
        "      <th>TotalComp</th>\n",
        "    </tr>\n",
        "  </thead>\n",
        "  <tbody>\n",
        "    <tr>\n",
        "      <th>17347</th>\n",
        "      <td>     MIDLANDS TECHNICAL COLLEGE</td>\n",
        "      <td>  CUMMINGS</td>\n",
        "      <td>   DARRYL</td>\n",
        "      <td>NaN</td>\n",
        "      <td>         SUPPLY MANAGER II</td>\n",
        "      <td> 50000</td>\n",
        "      <td> 0</td>\n",
        "      <td> 50000</td>\n",
        "    </tr>\n",
        "    <tr>\n",
        "      <th>17348</th>\n",
        "      <td>     PIEDMONT TECHNICAL COLLEGE</td>\n",
        "      <td>  CHAPPELL</td>\n",
        "      <td> CAROLINE</td>\n",
        "      <td>NaN</td>\n",
        "      <td>    GRANTS ADMINISTRATOR I</td>\n",
        "      <td> 50000</td>\n",
        "      <td> 0</td>\n",
        "      <td> 50000</td>\n",
        "    </tr>\n",
        "    <tr>\n",
        "      <th>17349</th>\n",
        "      <td>  CENTRAL CAROLINA TECH COLLEGE</td>\n",
        "      <td>  MCKINNEY</td>\n",
        "      <td>  SHIJUAN</td>\n",
        "      <td>NaN</td>\n",
        "      <td>                INSTRUCTOR</td>\n",
        "      <td> 50000</td>\n",
        "      <td> 0</td>\n",
        "      <td> 50000</td>\n",
        "    </tr>\n",
        "    <tr>\n",
        "      <th>17350</th>\n",
        "      <td>   TRI-COUNTY TECHNICAL COLLEGE</td>\n",
        "      <td> MCWHORTER</td>\n",
        "      <td>   PAMELA</td>\n",
        "      <td>NaN</td>\n",
        "      <td>   APPLICATIONS ANALYST II</td>\n",
        "      <td> 50000</td>\n",
        "      <td> 0</td>\n",
        "      <td> 50000</td>\n",
        "    </tr>\n",
        "    <tr>\n",
        "      <th>17351</th>\n",
        "      <td> WILLIAMSBURG TECHNICAL COLLEGE</td>\n",
        "      <td>     MYERS</td>\n",
        "      <td>    JAMES</td>\n",
        "      <td>NaN</td>\n",
        "      <td> CURRICULUM COORDINATOR II</td>\n",
        "      <td> 50000</td>\n",
        "      <td> 0</td>\n",
        "      <td> 50000</td>\n",
        "    </tr>\n",
        "  </tbody>\n",
        "</table>\n",
        "</div>"
       ],
       "metadata": {},
       "output_type": "pyout",
       "prompt_number": 82,
       "text": [
        "                               Agency   Lastname Firstname  Middlename  \\\n",
        "17347      MIDLANDS TECHNICAL COLLEGE   CUMMINGS    DARRYL         NaN   \n",
        "17348      PIEDMONT TECHNICAL COLLEGE   CHAPPELL  CAROLINE         NaN   \n",
        "17349   CENTRAL CAROLINA TECH COLLEGE   MCKINNEY   SHIJUAN         NaN   \n",
        "17350    TRI-COUNTY TECHNICAL COLLEGE  MCWHORTER    PAMELA         NaN   \n",
        "17351  WILLIAMSBURG TECHNICAL COLLEGE      MYERS     JAMES         NaN   \n",
        "\n",
        "                        JobTitle  BasePay  OtherComp  TotalComp  \n",
        "17347          SUPPLY MANAGER II    50000          0      50000  \n",
        "17348     GRANTS ADMINISTRATOR I    50000          0      50000  \n",
        "17349                 INSTRUCTOR    50000          0      50000  \n",
        "17350    APPLICATIONS ANALYST II    50000          0      50000  \n",
        "17351  CURRICULUM COORDINATOR II    50000          0      50000  "
       ]
      }
     ],
     "prompt_number": 82
    },
    {
     "cell_type": "code",
     "collapsed": false,
     "input": [
      "type(salaries[100:105]['JobTitle'])"
     ],
     "language": "python",
     "metadata": {},
     "outputs": [
      {
       "metadata": {},
       "output_type": "pyout",
       "prompt_number": 89,
       "text": [
        "pandas.core.series.Series"
       ]
      }
     ],
     "prompt_number": 89
    },
    {
     "cell_type": "code",
     "collapsed": false,
     "input": [
      "salaries['JobTitle'][0:6]"
     ],
     "language": "python",
     "metadata": {},
     "outputs": [
      {
       "metadata": {},
       "output_type": "pyout",
       "prompt_number": 86,
       "text": [
        "0    ATHLETICS DIRECTOR\n",
        "1        VICE PRESIDENT\n",
        "2             PROFESSOR\n",
        "3       ATHLETICS COACH\n",
        "4             PROFESSOR\n",
        "5          VICE PROVOST\n",
        "Name: JobTitle, dtype: object"
       ]
      }
     ],
     "prompt_number": 86
    },
    {
     "cell_type": "code",
     "collapsed": false,
     "input": [
      "salaries[['Lastname', 'Firstname']].head()"
     ],
     "language": "python",
     "metadata": {},
     "outputs": [
      {
       "html": [
        "<div style=\"max-height:1000px;max-width:1500px;overflow:auto;\">\n",
        "<table border=\"1\" class=\"dataframe\">\n",
        "  <thead>\n",
        "    <tr style=\"text-align: right;\">\n",
        "      <th></th>\n",
        "      <th>Lastname</th>\n",
        "      <th>Firstname</th>\n",
        "    </tr>\n",
        "  </thead>\n",
        "  <tbody>\n",
        "    <tr>\n",
        "      <th>0</th>\n",
        "      <td>     TANNER</td>\n",
        "      <td>        D.</td>\n",
        "    </tr>\n",
        "    <tr>\n",
        "      <th>1</th>\n",
        "      <td> MONTGOMERY</td>\n",
        "      <td>      LISA</td>\n",
        "    </tr>\n",
        "    <tr>\n",
        "      <th>2</th>\n",
        "      <td>  MOSKOWITZ</td>\n",
        "      <td>       JAY</td>\n",
        "    </tr>\n",
        "    <tr>\n",
        "      <th>3</th>\n",
        "      <td>     WOJCIK</td>\n",
        "      <td> FREDERICK</td>\n",
        "    </tr>\n",
        "    <tr>\n",
        "      <th>4</th>\n",
        "      <td>      MORAD</td>\n",
        "      <td>    MARTIN</td>\n",
        "    </tr>\n",
        "  </tbody>\n",
        "</table>\n",
        "</div>"
       ],
       "metadata": {},
       "output_type": "pyout",
       "prompt_number": 29,
       "text": [
        "     Lastname  Firstname\n",
        "0      TANNER         D.\n",
        "1  MONTGOMERY       LISA\n",
        "2   MOSKOWITZ        JAY\n",
        "3      WOJCIK  FREDERICK\n",
        "4       MORAD     MARTIN"
       ]
      }
     ],
     "prompt_number": 29
    },
    {
     "cell_type": "code",
     "collapsed": false,
     "input": [
      "salaries[salaries.BasePay > 250000].head(2)"
     ],
     "language": "python",
     "metadata": {},
     "outputs": [
      {
       "html": [
        "<div style=\"max-height:1000px;max-width:1500px;overflow:auto;\">\n",
        "<table border=\"1\" class=\"dataframe\">\n",
        "  <thead>\n",
        "    <tr style=\"text-align: right;\">\n",
        "      <th></th>\n",
        "      <th>Agency</th>\n",
        "      <th>Lastname</th>\n",
        "      <th>Firstname</th>\n",
        "      <th>Middlename</th>\n",
        "      <th>JobTitle</th>\n",
        "      <th>BasePay</th>\n",
        "      <th>OtherComp</th>\n",
        "      <th>TotalComp</th>\n",
        "    </tr>\n",
        "  </thead>\n",
        "  <tbody>\n",
        "    <tr>\n",
        "      <th>0</th>\n",
        "      <td> UNIVERSITY OF SOUTH CAROLINA</td>\n",
        "      <td>     TANNER</td>\n",
        "      <td>   D.</td>\n",
        "      <td>NaN</td>\n",
        "      <td> ATHLETICS DIRECTOR</td>\n",
        "      <td> 525000</td>\n",
        "      <td> 0</td>\n",
        "      <td> 525000</td>\n",
        "    </tr>\n",
        "    <tr>\n",
        "      <th>1</th>\n",
        "      <td>     MEDICAL UNIVERSITY OF SC</td>\n",
        "      <td> MONTGOMERY</td>\n",
        "      <td> LISA</td>\n",
        "      <td>NaN</td>\n",
        "      <td>     VICE PRESIDENT</td>\n",
        "      <td> 405313</td>\n",
        "      <td> 0</td>\n",
        "      <td> 405313</td>\n",
        "    </tr>\n",
        "  </tbody>\n",
        "</table>\n",
        "</div>"
       ],
       "metadata": {},
       "output_type": "pyout",
       "prompt_number": 91,
       "text": [
        "                         Agency    Lastname Firstname  Middlename  \\\n",
        "0  UNIVERSITY OF SOUTH CAROLINA      TANNER        D.         NaN   \n",
        "1      MEDICAL UNIVERSITY OF SC  MONTGOMERY      LISA         NaN   \n",
        "\n",
        "             JobTitle  BasePay  OtherComp  TotalComp  \n",
        "0  ATHLETICS DIRECTOR   525000          0     525000  \n",
        "1      VICE PRESIDENT   405313          0     405313  "
       ]
      }
     ],
     "prompt_number": 91
    },
    {
     "cell_type": "code",
     "collapsed": false,
     "input": [
      "by_agency = salaries.groupby('Agency')"
     ],
     "language": "python",
     "metadata": {},
     "outputs": [],
     "prompt_number": 92
    },
    {
     "cell_type": "code",
     "collapsed": false,
     "input": [
      "by_agency"
     ],
     "language": "python",
     "metadata": {},
     "outputs": [
      {
       "metadata": {},
       "output_type": "pyout",
       "prompt_number": 93,
       "text": [
        "<pandas.core.groupby.DataFrameGroupBy object at 0x10576ffd0>"
       ]
      }
     ],
     "prompt_number": 93
    },
    {
     "cell_type": "code",
     "collapsed": false,
     "input": [
      "by_agency.size()"
     ],
     "language": "python",
     "metadata": {},
     "outputs": [
      {
       "metadata": {},
       "output_type": "pyout",
       "prompt_number": 94,
       "text": [
        "Agency\n",
        "ADJUTANT GENERALS OFFICE            28\n",
        "AIKEN TECHNICAL COLLEGE             50\n",
        "ARTS COMMISSION                      7\n",
        "ATTORNEY GENERAL'S OFFICE           85\n",
        "BUDGET AND CONTROL BOARD           319\n",
        "CENTRAL CAROLINA TECH COLLEGE       48\n",
        "CLEMSON UNIVERSITY                2046\n",
        "COASTAL CAROLINA UNIVERSITY        517\n",
        "COMMISSION FOR THE BLIND            12\n",
        "COMMISSION ON HIGHER EDUCATION      19\n",
        "COMMISSION ON INDIGENT DEFENSE      35\n",
        "COMMISSION ON MINORITY AFFAIRS       6\n",
        "DENMARK TECHNICAL COLLEGE            8\n",
        "DEPARTMENT OF AGRICULTURE           13\n",
        "DEPARTMENT OF COMMERCE              42\n",
        "...\n",
        "STATE LIBRARY                        9\n",
        "TEC & COMPREHENSIVE EDUC BOARD      61\n",
        "TECH COLLEGE OF THE LOWCOUNTRY      44\n",
        "THE CITADEL                        326\n",
        "THE S C INFRASTRUCTURE BANK BD       2\n",
        "TRI-COUNTY TECHNICAL COLLEGE        84\n",
        "TRIDENT TECHNICAL COLLEGE          279\n",
        "UNIVERSITY OF CHARLESTON           794\n",
        "UNIVERSITY OF SOUTH CAROLINA      3220\n",
        "VOCATIONAL REHABILITATION          252\n",
        "WIL LOU GRAY OPPORTUNITY SCH        18\n",
        "WILLIAMSBURG TECHNICAL COLLEGE      10\n",
        "WINTHROP UNIVERSITY                379\n",
        "WORKERS COMPENSATION                16\n",
        "YORK TECHNICAL COLLEGE              84\n",
        "Length: 96, dtype: int64"
       ]
      }
     ],
     "prompt_number": 94
    },
    {
     "cell_type": "code",
     "collapsed": false,
     "input": [
      "by_agency.size()[-15:]"
     ],
     "language": "python",
     "metadata": {},
     "outputs": [
      {
       "metadata": {},
       "output_type": "pyout",
       "prompt_number": 95,
       "text": [
        "Agency\n",
        "STATE LIBRARY                        9\n",
        "TEC & COMPREHENSIVE EDUC BOARD      61\n",
        "TECH COLLEGE OF THE LOWCOUNTRY      44\n",
        "THE CITADEL                        326\n",
        "THE S C INFRASTRUCTURE BANK BD       2\n",
        "TRI-COUNTY TECHNICAL COLLEGE        84\n",
        "TRIDENT TECHNICAL COLLEGE          279\n",
        "UNIVERSITY OF CHARLESTON           794\n",
        "UNIVERSITY OF SOUTH CAROLINA      3220\n",
        "VOCATIONAL REHABILITATION          252\n",
        "WIL LOU GRAY OPPORTUNITY SCH        18\n",
        "WILLIAMSBURG TECHNICAL COLLEGE      10\n",
        "WINTHROP UNIVERSITY                379\n",
        "WORKERS COMPENSATION                16\n",
        "YORK TECHNICAL COLLEGE              84\n",
        "dtype: int64"
       ]
      }
     ],
     "prompt_number": 95
    },
    {
     "cell_type": "code",
     "collapsed": false,
     "input": [
      "by_agency.std()"
     ],
     "language": "python",
     "metadata": {},
     "outputs": [
      {
       "html": [
        "<pre>\n",
        "&lt;class 'pandas.core.frame.DataFrame'&gt;\n",
        "Index: 96 entries, ADJUTANT GENERALS OFFICE to YORK TECHNICAL COLLEGE\n",
        "Data columns (total 4 columns):\n",
        "Middlename    0  non-null values\n",
        "BasePay       94  non-null values\n",
        "OtherComp     94  non-null values\n",
        "TotalComp     94  non-null values\n",
        "dtypes: float64(4)\n",
        "</pre>"
       ],
       "metadata": {},
       "output_type": "pyout",
       "prompt_number": 96,
       "text": [
        "<class 'pandas.core.frame.DataFrame'>\n",
        "Index: 96 entries, ADJUTANT GENERALS OFFICE to YORK TECHNICAL COLLEGE\n",
        "Data columns (total 4 columns):\n",
        "Middlename    0  non-null values\n",
        "BasePay       94  non-null values\n",
        "OtherComp     94  non-null values\n",
        "TotalComp     94  non-null values\n",
        "dtypes: float64(4)"
       ]
      }
     ],
     "prompt_number": 96
    },
    {
     "cell_type": "code",
     "collapsed": false,
     "input": [
      "numpy.arange(12) + 1"
     ],
     "language": "python",
     "metadata": {},
     "outputs": [
      {
       "metadata": {},
       "output_type": "pyout",
       "prompt_number": 98,
       "text": [
        "array([ 1,  2,  3,  4,  5,  6,  7,  8,  9, 10, 11, 12])"
       ]
      }
     ],
     "prompt_number": 98
    },
    {
     "cell_type": "code",
     "collapsed": false,
     "input": [
      "def rank_func(dataframe):\n",
      "    dataframe['pay_rank'] = numpy.arange(len(dataframe)) + 1\n",
      "    return dataframe\n",
      "salaries.sort('BasePay', ascending=False, inplace=True)\n",
      "salaries = salaries.groupby('Agency').apply(rank_func)"
     ],
     "language": "python",
     "metadata": {},
     "outputs": [],
     "prompt_number": 99
    },
    {
     "cell_type": "code",
     "collapsed": false,
     "input": [
      "salaries"
     ],
     "language": "python",
     "metadata": {},
     "outputs": [
      {
       "html": [
        "<pre>\n",
        "&lt;class 'pandas.core.frame.DataFrame'&gt;\n",
        "Int64Index: 17352 entries, 0 to 17351\n",
        "Data columns (total 9 columns):\n",
        "Agency        17352  non-null values\n",
        "Lastname      17352  non-null values\n",
        "Firstname     17352  non-null values\n",
        "Middlename    0  non-null values\n",
        "JobTitle      17352  non-null values\n",
        "BasePay       17352  non-null values\n",
        "OtherComp     17352  non-null values\n",
        "TotalComp     17352  non-null values\n",
        "pay_rank      17352  non-null values\n",
        "dtypes: float64(1), int64(4), object(4)\n",
        "</pre>"
       ],
       "metadata": {},
       "output_type": "pyout",
       "prompt_number": 100,
       "text": [
        "<class 'pandas.core.frame.DataFrame'>\n",
        "Int64Index: 17352 entries, 0 to 17351\n",
        "Data columns (total 9 columns):\n",
        "Agency        17352  non-null values\n",
        "Lastname      17352  non-null values\n",
        "Firstname     17352  non-null values\n",
        "Middlename    0  non-null values\n",
        "JobTitle      17352  non-null values\n",
        "BasePay       17352  non-null values\n",
        "OtherComp     17352  non-null values\n",
        "TotalComp     17352  non-null values\n",
        "pay_rank      17352  non-null values\n",
        "dtypes: float64(1), int64(4), object(4)"
       ]
      }
     ],
     "prompt_number": 100
    },
    {
     "cell_type": "code",
     "collapsed": false,
     "input": [
      "salaries[salaries.pay_rank == 1].head()"
     ],
     "language": "python",
     "metadata": {},
     "outputs": [
      {
       "html": [
        "<div style=\"max-height:1000px;max-width:1500px;overflow:auto;\">\n",
        "<table border=\"1\" class=\"dataframe\">\n",
        "  <thead>\n",
        "    <tr style=\"text-align: right;\">\n",
        "      <th></th>\n",
        "      <th>Agency</th>\n",
        "      <th>Lastname</th>\n",
        "      <th>Firstname</th>\n",
        "      <th>Middlename</th>\n",
        "      <th>JobTitle</th>\n",
        "      <th>BasePay</th>\n",
        "      <th>OtherComp</th>\n",
        "      <th>TotalComp</th>\n",
        "      <th>pay_rank</th>\n",
        "    </tr>\n",
        "  </thead>\n",
        "  <tbody>\n",
        "    <tr>\n",
        "      <th>0 </th>\n",
        "      <td>   UNIVERSITY OF SOUTH CAROLINA</td>\n",
        "      <td>     TANNER</td>\n",
        "      <td>        D.</td>\n",
        "      <td>NaN</td>\n",
        "      <td> ATHLETICS DIRECTOR</td>\n",
        "      <td> 525000</td>\n",
        "      <td>      0</td>\n",
        "      <td> 525000</td>\n",
        "      <td> 1</td>\n",
        "    </tr>\n",
        "    <tr>\n",
        "      <th>1 </th>\n",
        "      <td>       MEDICAL UNIVERSITY OF SC</td>\n",
        "      <td> MONTGOMERY</td>\n",
        "      <td>      LISA</td>\n",
        "      <td>NaN</td>\n",
        "      <td>     VICE PRESIDENT</td>\n",
        "      <td> 405313</td>\n",
        "      <td>      0</td>\n",
        "      <td> 405313</td>\n",
        "      <td> 1</td>\n",
        "    </tr>\n",
        "    <tr>\n",
        "      <th>3 </th>\n",
        "      <td>       UNIVERSITY OF CHARLESTON</td>\n",
        "      <td>     WOJCIK</td>\n",
        "      <td> FREDERICK</td>\n",
        "      <td>NaN</td>\n",
        "      <td>    ATHLETICS COACH</td>\n",
        "      <td> 400000</td>\n",
        "      <td>      0</td>\n",
        "      <td> 400000</td>\n",
        "      <td> 1</td>\n",
        "    </tr>\n",
        "    <tr>\n",
        "      <th>5 </th>\n",
        "      <td>             CLEMSON UNIVERSITY</td>\n",
        "      <td>     BOTTUM</td>\n",
        "      <td>     JAMES</td>\n",
        "      <td>NaN</td>\n",
        "      <td>       VICE PROVOST</td>\n",
        "      <td> 373035</td>\n",
        "      <td>      0</td>\n",
        "      <td> 373035</td>\n",
        "      <td> 1</td>\n",
        "    </tr>\n",
        "    <tr>\n",
        "      <th>20</th>\n",
        "      <td> RETIREMENT SYS INVESTMENT COMM</td>\n",
        "      <td>     HARPER</td>\n",
        "      <td>   HERSHEL</td>\n",
        "      <td>NaN</td>\n",
        "      <td>       STAFF - RSIC</td>\n",
        "      <td> 300000</td>\n",
        "      <td> 300000</td>\n",
        "      <td> 600000</td>\n",
        "      <td> 1</td>\n",
        "    </tr>\n",
        "  </tbody>\n",
        "</table>\n",
        "</div>"
       ],
       "metadata": {},
       "output_type": "pyout",
       "prompt_number": 101,
       "text": [
        "                            Agency    Lastname  Firstname  Middlename  \\\n",
        "0     UNIVERSITY OF SOUTH CAROLINA      TANNER         D.         NaN   \n",
        "1         MEDICAL UNIVERSITY OF SC  MONTGOMERY       LISA         NaN   \n",
        "3         UNIVERSITY OF CHARLESTON      WOJCIK  FREDERICK         NaN   \n",
        "5               CLEMSON UNIVERSITY      BOTTUM      JAMES         NaN   \n",
        "20  RETIREMENT SYS INVESTMENT COMM      HARPER    HERSHEL         NaN   \n",
        "\n",
        "              JobTitle  BasePay  OtherComp  TotalComp  pay_rank  \n",
        "0   ATHLETICS DIRECTOR   525000          0     525000         1  \n",
        "1       VICE PRESIDENT   405313          0     405313         1  \n",
        "3      ATHLETICS COACH   400000          0     400000         1  \n",
        "5         VICE PROVOST   373035          0     373035         1  \n",
        "20        STAFF - RSIC   300000     300000     600000         1  "
       ]
      }
     ],
     "prompt_number": 101
    },
    {
     "cell_type": "code",
     "collapsed": false,
     "input": [
      "salaries[salaries.Agency == 'UNIVERSITY OF SOUTH CAROLINA'].head()"
     ],
     "language": "python",
     "metadata": {},
     "outputs": [
      {
       "html": [
        "<div style=\"max-height:1000px;max-width:1500px;overflow:auto;\">\n",
        "<table border=\"1\" class=\"dataframe\">\n",
        "  <thead>\n",
        "    <tr style=\"text-align: right;\">\n",
        "      <th></th>\n",
        "      <th>Agency</th>\n",
        "      <th>Lastname</th>\n",
        "      <th>Firstname</th>\n",
        "      <th>Middlename</th>\n",
        "      <th>JobTitle</th>\n",
        "      <th>BasePay</th>\n",
        "      <th>OtherComp</th>\n",
        "      <th>TotalComp</th>\n",
        "      <th>pay_rank</th>\n",
        "    </tr>\n",
        "  </thead>\n",
        "  <tbody>\n",
        "    <tr>\n",
        "      <th>0</th>\n",
        "      <td> UNIVERSITY OF SOUTH CAROLINA</td>\n",
        "      <td>     TANNER</td>\n",
        "      <td>      D.</td>\n",
        "      <td>NaN</td>\n",
        "      <td> ATHLETICS DIRECTOR</td>\n",
        "      <td> 525000</td>\n",
        "      <td> 0</td>\n",
        "      <td> 525000</td>\n",
        "      <td> 1</td>\n",
        "    </tr>\n",
        "    <tr>\n",
        "      <th>2</th>\n",
        "      <td> UNIVERSITY OF SOUTH CAROLINA</td>\n",
        "      <td>  MOSKOWITZ</td>\n",
        "      <td>     JAY</td>\n",
        "      <td>NaN</td>\n",
        "      <td>          PROFESSOR</td>\n",
        "      <td> 402999</td>\n",
        "      <td> 0</td>\n",
        "      <td> 402999</td>\n",
        "      <td> 2</td>\n",
        "    </tr>\n",
        "    <tr>\n",
        "      <th>4</th>\n",
        "      <td> UNIVERSITY OF SOUTH CAROLINA</td>\n",
        "      <td>      MORAD</td>\n",
        "      <td>  MARTIN</td>\n",
        "      <td>NaN</td>\n",
        "      <td>          PROFESSOR</td>\n",
        "      <td> 384911</td>\n",
        "      <td> 0</td>\n",
        "      <td> 384911</td>\n",
        "      <td> 3</td>\n",
        "    </tr>\n",
        "    <tr>\n",
        "      <th>6</th>\n",
        "      <td> UNIVERSITY OF SOUTH CAROLINA</td>\n",
        "      <td> NAGARKATTI</td>\n",
        "      <td> PRAKASH</td>\n",
        "      <td>NaN</td>\n",
        "      <td>     VICE PRESIDENT</td>\n",
        "      <td> 357980</td>\n",
        "      <td> 0</td>\n",
        "      <td> 357980</td>\n",
        "      <td> 4</td>\n",
        "    </tr>\n",
        "    <tr>\n",
        "      <th>7</th>\n",
        "      <td> UNIVERSITY OF SOUTH CAROLINA</td>\n",
        "      <td>   SPURRIER</td>\n",
        "      <td> STEPHEN</td>\n",
        "      <td>NaN</td>\n",
        "      <td>    ATHLETICS COACH</td>\n",
        "      <td> 350000</td>\n",
        "      <td> 0</td>\n",
        "      <td> 350000</td>\n",
        "      <td> 5</td>\n",
        "    </tr>\n",
        "  </tbody>\n",
        "</table>\n",
        "</div>"
       ],
       "metadata": {},
       "output_type": "pyout",
       "prompt_number": 102,
       "text": [
        "                         Agency    Lastname Firstname  Middlename  \\\n",
        "0  UNIVERSITY OF SOUTH CAROLINA      TANNER        D.         NaN   \n",
        "2  UNIVERSITY OF SOUTH CAROLINA   MOSKOWITZ       JAY         NaN   \n",
        "4  UNIVERSITY OF SOUTH CAROLINA       MORAD    MARTIN         NaN   \n",
        "6  UNIVERSITY OF SOUTH CAROLINA  NAGARKATTI   PRAKASH         NaN   \n",
        "7  UNIVERSITY OF SOUTH CAROLINA    SPURRIER   STEPHEN         NaN   \n",
        "\n",
        "             JobTitle  BasePay  OtherComp  TotalComp  pay_rank  \n",
        "0  ATHLETICS DIRECTOR   525000          0     525000         1  \n",
        "2           PROFESSOR   402999          0     402999         2  \n",
        "4           PROFESSOR   384911          0     384911         3  \n",
        "6      VICE PRESIDENT   357980          0     357980         4  \n",
        "7     ATHLETICS COACH   350000          0     350000         5  "
       ]
      }
     ],
     "prompt_number": 102
    },
    {
     "cell_type": "code",
     "collapsed": false,
     "input": [
      "salaries.head()"
     ],
     "language": "python",
     "metadata": {},
     "outputs": [
      {
       "html": [
        "<div style=\"max-height:1000px;max-width:1500px;overflow:auto;\">\n",
        "<table border=\"1\" class=\"dataframe\">\n",
        "  <thead>\n",
        "    <tr style=\"text-align: right;\">\n",
        "      <th></th>\n",
        "      <th>Agency</th>\n",
        "      <th>Lastname</th>\n",
        "      <th>Firstname</th>\n",
        "      <th>Middlename</th>\n",
        "      <th>JobTitle</th>\n",
        "      <th>BasePay</th>\n",
        "      <th>OtherComp</th>\n",
        "      <th>TotalComp</th>\n",
        "      <th>pay_rank</th>\n",
        "    </tr>\n",
        "  </thead>\n",
        "  <tbody>\n",
        "    <tr>\n",
        "      <th>0</th>\n",
        "      <td> UNIVERSITY OF SOUTH CAROLINA</td>\n",
        "      <td>     TANNER</td>\n",
        "      <td>        D.</td>\n",
        "      <td>NaN</td>\n",
        "      <td> ATHLETICS DIRECTOR</td>\n",
        "      <td> 525000</td>\n",
        "      <td> 0</td>\n",
        "      <td> 525000</td>\n",
        "      <td> 1</td>\n",
        "    </tr>\n",
        "    <tr>\n",
        "      <th>1</th>\n",
        "      <td>     MEDICAL UNIVERSITY OF SC</td>\n",
        "      <td> MONTGOMERY</td>\n",
        "      <td>      LISA</td>\n",
        "      <td>NaN</td>\n",
        "      <td>     VICE PRESIDENT</td>\n",
        "      <td> 405313</td>\n",
        "      <td> 0</td>\n",
        "      <td> 405313</td>\n",
        "      <td> 1</td>\n",
        "    </tr>\n",
        "    <tr>\n",
        "      <th>2</th>\n",
        "      <td> UNIVERSITY OF SOUTH CAROLINA</td>\n",
        "      <td>  MOSKOWITZ</td>\n",
        "      <td>       JAY</td>\n",
        "      <td>NaN</td>\n",
        "      <td>          PROFESSOR</td>\n",
        "      <td> 402999</td>\n",
        "      <td> 0</td>\n",
        "      <td> 402999</td>\n",
        "      <td> 2</td>\n",
        "    </tr>\n",
        "    <tr>\n",
        "      <th>3</th>\n",
        "      <td>     UNIVERSITY OF CHARLESTON</td>\n",
        "      <td>     WOJCIK</td>\n",
        "      <td> FREDERICK</td>\n",
        "      <td>NaN</td>\n",
        "      <td>    ATHLETICS COACH</td>\n",
        "      <td> 400000</td>\n",
        "      <td> 0</td>\n",
        "      <td> 400000</td>\n",
        "      <td> 1</td>\n",
        "    </tr>\n",
        "    <tr>\n",
        "      <th>4</th>\n",
        "      <td> UNIVERSITY OF SOUTH CAROLINA</td>\n",
        "      <td>      MORAD</td>\n",
        "      <td>    MARTIN</td>\n",
        "      <td>NaN</td>\n",
        "      <td>          PROFESSOR</td>\n",
        "      <td> 384911</td>\n",
        "      <td> 0</td>\n",
        "      <td> 384911</td>\n",
        "      <td> 3</td>\n",
        "    </tr>\n",
        "  </tbody>\n",
        "</table>\n",
        "</div>"
       ],
       "metadata": {},
       "output_type": "pyout",
       "prompt_number": 40,
       "text": [
        "                         Agency    Lastname  Firstname  Middlename  \\\n",
        "0  UNIVERSITY OF SOUTH CAROLINA      TANNER         D.         NaN   \n",
        "1      MEDICAL UNIVERSITY OF SC  MONTGOMERY       LISA         NaN   \n",
        "2  UNIVERSITY OF SOUTH CAROLINA   MOSKOWITZ        JAY         NaN   \n",
        "3      UNIVERSITY OF CHARLESTON      WOJCIK  FREDERICK         NaN   \n",
        "4  UNIVERSITY OF SOUTH CAROLINA       MORAD     MARTIN         NaN   \n",
        "\n",
        "             JobTitle  BasePay  OtherComp  TotalComp  pay_rank  \n",
        "0  ATHLETICS DIRECTOR   525000          0     525000         1  \n",
        "1      VICE PRESIDENT   405313          0     405313         1  \n",
        "2           PROFESSOR   402999          0     402999         2  \n",
        "3     ATHLETICS COACH   400000          0     400000         1  \n",
        "4           PROFESSOR   384911          0     384911         3  "
       ]
      }
     ],
     "prompt_number": 40
    },
    {
     "cell_type": "code",
     "collapsed": false,
     "input": [
      "labels = ['$0-59k', '$60-69k', '$70-79k', '$80-89k', '$90-99k', '$100-124k', '$125-224k', '$225-324k', \n",
      "          '$325-424k', '$425-600k']\n",
      "salaries['salary_group'] = pandas.cut(salaries.BasePay, \n",
      "                                      [0, 60000, 70000, 80000, 90000, 100000, 125000, 225000, 325000, 425000, 601000], right=False, labels=labels)"
     ],
     "language": "python",
     "metadata": {},
     "outputs": [],
     "prompt_number": 103
    },
    {
     "cell_type": "code",
     "collapsed": false,
     "input": [
      "salaries[['BasePay', 'salary_group']].drop_duplicates()[:10]"
     ],
     "language": "python",
     "metadata": {},
     "outputs": [
      {
       "html": [
        "<div style=\"max-height:1000px;max-width:1500px;overflow:auto;\">\n",
        "<table border=\"1\" class=\"dataframe\">\n",
        "  <thead>\n",
        "    <tr style=\"text-align: right;\">\n",
        "      <th></th>\n",
        "      <th>BasePay</th>\n",
        "      <th>salary_group</th>\n",
        "    </tr>\n",
        "  </thead>\n",
        "  <tbody>\n",
        "    <tr>\n",
        "      <th>0 </th>\n",
        "      <td> 525000</td>\n",
        "      <td> $425-600k</td>\n",
        "    </tr>\n",
        "    <tr>\n",
        "      <th>1 </th>\n",
        "      <td> 405313</td>\n",
        "      <td> $325-424k</td>\n",
        "    </tr>\n",
        "    <tr>\n",
        "      <th>2 </th>\n",
        "      <td> 402999</td>\n",
        "      <td> $325-424k</td>\n",
        "    </tr>\n",
        "    <tr>\n",
        "      <th>3 </th>\n",
        "      <td> 400000</td>\n",
        "      <td> $325-424k</td>\n",
        "    </tr>\n",
        "    <tr>\n",
        "      <th>4 </th>\n",
        "      <td> 384911</td>\n",
        "      <td> $325-424k</td>\n",
        "    </tr>\n",
        "    <tr>\n",
        "      <th>5 </th>\n",
        "      <td> 373035</td>\n",
        "      <td> $325-424k</td>\n",
        "    </tr>\n",
        "    <tr>\n",
        "      <th>6 </th>\n",
        "      <td> 357980</td>\n",
        "      <td> $325-424k</td>\n",
        "    </tr>\n",
        "    <tr>\n",
        "      <th>7 </th>\n",
        "      <td> 350000</td>\n",
        "      <td> $325-424k</td>\n",
        "    </tr>\n",
        "    <tr>\n",
        "      <th>9 </th>\n",
        "      <td> 323459</td>\n",
        "      <td> $225-324k</td>\n",
        "    </tr>\n",
        "    <tr>\n",
        "      <th>10</th>\n",
        "      <td> 321334</td>\n",
        "      <td> $225-324k</td>\n",
        "    </tr>\n",
        "  </tbody>\n",
        "</table>\n",
        "</div>"
       ],
       "metadata": {},
       "output_type": "pyout",
       "prompt_number": 104,
       "text": [
        "    BasePay salary_group\n",
        "0    525000    $425-600k\n",
        "1    405313    $325-424k\n",
        "2    402999    $325-424k\n",
        "3    400000    $325-424k\n",
        "4    384911    $325-424k\n",
        "5    373035    $325-424k\n",
        "6    357980    $325-424k\n",
        "7    350000    $325-424k\n",
        "9    323459    $225-324k\n",
        "10   321334    $225-324k"
       ]
      }
     ],
     "prompt_number": 104
    },
    {
     "cell_type": "code",
     "collapsed": false,
     "input": [
      "by_salary_group = salaries.groupby('salary_group')"
     ],
     "language": "python",
     "metadata": {},
     "outputs": [],
     "prompt_number": 105
    },
    {
     "cell_type": "code",
     "collapsed": false,
     "input": [
      "by_salary_group.count()"
     ],
     "language": "python",
     "metadata": {},
     "outputs": [
      {
       "html": [
        "<div style=\"max-height:1000px;max-width:1500px;overflow:auto;\">\n",
        "<table border=\"1\" class=\"dataframe\">\n",
        "  <thead>\n",
        "    <tr style=\"text-align: right;\">\n",
        "      <th></th>\n",
        "      <th>Agency</th>\n",
        "      <th>Lastname</th>\n",
        "      <th>Firstname</th>\n",
        "      <th>Middlename</th>\n",
        "      <th>JobTitle</th>\n",
        "      <th>BasePay</th>\n",
        "      <th>OtherComp</th>\n",
        "      <th>TotalComp</th>\n",
        "      <th>pay_rank</th>\n",
        "      <th>salary_group</th>\n",
        "    </tr>\n",
        "    <tr>\n",
        "      <th>salary_group</th>\n",
        "      <th></th>\n",
        "      <th></th>\n",
        "      <th></th>\n",
        "      <th></th>\n",
        "      <th></th>\n",
        "      <th></th>\n",
        "      <th></th>\n",
        "      <th></th>\n",
        "      <th></th>\n",
        "      <th></th>\n",
        "    </tr>\n",
        "  </thead>\n",
        "  <tbody>\n",
        "    <tr>\n",
        "      <th>$0-59k</th>\n",
        "      <td> 6214</td>\n",
        "      <td> 6214</td>\n",
        "      <td> 6214</td>\n",
        "      <td> 0</td>\n",
        "      <td> 6214</td>\n",
        "      <td> 6214</td>\n",
        "      <td> 6214</td>\n",
        "      <td> 6214</td>\n",
        "      <td> 6214</td>\n",
        "      <td> 6214</td>\n",
        "    </tr>\n",
        "    <tr>\n",
        "      <th>$100-124k</th>\n",
        "      <td> 1277</td>\n",
        "      <td> 1277</td>\n",
        "      <td> 1277</td>\n",
        "      <td> 0</td>\n",
        "      <td> 1277</td>\n",
        "      <td> 1277</td>\n",
        "      <td> 1277</td>\n",
        "      <td> 1277</td>\n",
        "      <td> 1277</td>\n",
        "      <td> 1277</td>\n",
        "    </tr>\n",
        "    <tr>\n",
        "      <th>$125-224k</th>\n",
        "      <td> 1182</td>\n",
        "      <td> 1182</td>\n",
        "      <td> 1182</td>\n",
        "      <td> 0</td>\n",
        "      <td> 1182</td>\n",
        "      <td> 1182</td>\n",
        "      <td> 1182</td>\n",
        "      <td> 1182</td>\n",
        "      <td> 1182</td>\n",
        "      <td> 1182</td>\n",
        "    </tr>\n",
        "    <tr>\n",
        "      <th>$225-324k</th>\n",
        "      <td>  136</td>\n",
        "      <td>  136</td>\n",
        "      <td>  136</td>\n",
        "      <td> 0</td>\n",
        "      <td>  136</td>\n",
        "      <td>  136</td>\n",
        "      <td>  136</td>\n",
        "      <td>  136</td>\n",
        "      <td>  136</td>\n",
        "      <td>  136</td>\n",
        "    </tr>\n",
        "    <tr>\n",
        "      <th>$325-424k</th>\n",
        "      <td>    8</td>\n",
        "      <td>    8</td>\n",
        "      <td>    8</td>\n",
        "      <td> 0</td>\n",
        "      <td>    8</td>\n",
        "      <td>    8</td>\n",
        "      <td>    8</td>\n",
        "      <td>    8</td>\n",
        "      <td>    8</td>\n",
        "      <td>    8</td>\n",
        "    </tr>\n",
        "    <tr>\n",
        "      <th>$425-600k</th>\n",
        "      <td>    1</td>\n",
        "      <td>    1</td>\n",
        "      <td>    1</td>\n",
        "      <td> 0</td>\n",
        "      <td>    1</td>\n",
        "      <td>    1</td>\n",
        "      <td>    1</td>\n",
        "      <td>    1</td>\n",
        "      <td>    1</td>\n",
        "      <td>    1</td>\n",
        "    </tr>\n",
        "    <tr>\n",
        "      <th>$60-69k</th>\n",
        "      <td> 3498</td>\n",
        "      <td> 3498</td>\n",
        "      <td> 3498</td>\n",
        "      <td> 0</td>\n",
        "      <td> 3498</td>\n",
        "      <td> 3498</td>\n",
        "      <td> 3498</td>\n",
        "      <td> 3498</td>\n",
        "      <td> 3498</td>\n",
        "      <td> 3498</td>\n",
        "    </tr>\n",
        "    <tr>\n",
        "      <th>$70-79k</th>\n",
        "      <td> 2390</td>\n",
        "      <td> 2390</td>\n",
        "      <td> 2390</td>\n",
        "      <td> 0</td>\n",
        "      <td> 2390</td>\n",
        "      <td> 2390</td>\n",
        "      <td> 2390</td>\n",
        "      <td> 2390</td>\n",
        "      <td> 2390</td>\n",
        "      <td> 2390</td>\n",
        "    </tr>\n",
        "    <tr>\n",
        "      <th>$80-89k</th>\n",
        "      <td> 1538</td>\n",
        "      <td> 1538</td>\n",
        "      <td> 1538</td>\n",
        "      <td> 0</td>\n",
        "      <td> 1538</td>\n",
        "      <td> 1538</td>\n",
        "      <td> 1538</td>\n",
        "      <td> 1538</td>\n",
        "      <td> 1538</td>\n",
        "      <td> 1538</td>\n",
        "    </tr>\n",
        "    <tr>\n",
        "      <th>$90-99k</th>\n",
        "      <td> 1108</td>\n",
        "      <td> 1108</td>\n",
        "      <td> 1108</td>\n",
        "      <td> 0</td>\n",
        "      <td> 1108</td>\n",
        "      <td> 1108</td>\n",
        "      <td> 1108</td>\n",
        "      <td> 1108</td>\n",
        "      <td> 1108</td>\n",
        "      <td> 1108</td>\n",
        "    </tr>\n",
        "  </tbody>\n",
        "</table>\n",
        "</div>"
       ],
       "metadata": {},
       "output_type": "pyout",
       "prompt_number": 106,
       "text": [
        "              Agency  Lastname  Firstname  Middlename  JobTitle  BasePay  \\\n",
        "salary_group                                                               \n",
        "$0-59k          6214      6214       6214           0      6214     6214   \n",
        "$100-124k       1277      1277       1277           0      1277     1277   \n",
        "$125-224k       1182      1182       1182           0      1182     1182   \n",
        "$225-324k        136       136        136           0       136      136   \n",
        "$325-424k          8         8          8           0         8        8   \n",
        "$425-600k          1         1          1           0         1        1   \n",
        "$60-69k         3498      3498       3498           0      3498     3498   \n",
        "$70-79k         2390      2390       2390           0      2390     2390   \n",
        "$80-89k         1538      1538       1538           0      1538     1538   \n",
        "$90-99k         1108      1108       1108           0      1108     1108   \n",
        "\n",
        "              OtherComp  TotalComp  pay_rank  salary_group  \n",
        "salary_group                                                \n",
        "$0-59k             6214       6214      6214          6214  \n",
        "$100-124k          1277       1277      1277          1277  \n",
        "$125-224k          1182       1182      1182          1182  \n",
        "$225-324k           136        136       136           136  \n",
        "$325-424k             8          8         8             8  \n",
        "$425-600k             1          1         1             1  \n",
        "$60-69k            3498       3498      3498          3498  \n",
        "$70-79k            2390       2390      2390          2390  \n",
        "$80-89k            1538       1538      1538          1538  \n",
        "$90-99k            1108       1108      1108          1108  "
       ]
      }
     ],
     "prompt_number": 106
    },
    {
     "cell_type": "code",
     "collapsed": false,
     "input": [],
     "language": "python",
     "metadata": {},
     "outputs": [],
     "prompt_number": "*"
    },
    {
     "cell_type": "code",
     "collapsed": false,
     "input": [],
     "language": "python",
     "metadata": {},
     "outputs": [],
     "prompt_number": "*"
    },
    {
     "cell_type": "code",
     "collapsed": false,
     "input": [],
     "language": "python",
     "metadata": {},
     "outputs": []
    }
   ],
   "metadata": {}
  }
 ]
}